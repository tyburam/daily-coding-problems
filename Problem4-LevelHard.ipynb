{
 "cells": [
  {
   "cell_type": "markdown",
   "metadata": {},
   "source": [
    "## Problem statement\n",
    "\n",
    "Good morning! Here's your coding interview problem for today.\n",
    "\n",
    "This problem was asked by Stripe.\n",
    "\n",
    "Given an array of integers, find the first missing positive integer in linear time and constant space. In other words, find the lowest positive integer that does not exist in the array. The array can contain duplicates and negative numbers as well.\n",
    "\n",
    "For example, the input [3, 4, -1, 1] should give 2. The input [1, 2, 0] should give 3.\n",
    "\n",
    "You can modify the input array in-place."
   ]
  },
  {
   "cell_type": "markdown",
   "metadata": {},
   "source": [
    "## Solutions"
   ]
  },
  {
   "cell_type": "code",
   "execution_count": 1,
   "metadata": {},
   "outputs": [],
   "source": [
    "def solution_one(array):\n",
    "    positives = {} # remember all numbers above 0\n",
    "    highest = 0 # remember the highest number\n",
    "    for i in array: # linear iteration\n",
    "        if i > highest:\n",
    "            highest = i\n",
    "        if (i > 0) and (i not in positives):\n",
    "            positives[i] = 1\n",
    "    for i in range(1, highest): # search all numbers from 1 to highest - 1\n",
    "        if i not in positives:\n",
    "            return i\n",
    "    return highest+1 # nothing matched so the number must be higher that the highest"
   ]
  },
  {
   "cell_type": "code",
   "execution_count": 2,
   "metadata": {},
   "outputs": [],
   "source": [
    "def solution_two(array):\n",
    "    array = sorted(array)\n",
    "    solution = 1\n",
    "    for i in array:\n",
    "        if i <= 0: # skip \n",
    "            continue\n",
    "        if i == solution: # there's already that number so increase\n",
    "            solution += 1\n",
    "            continue\n",
    "        if i > solution: # it couldn't be higher so we already matched\n",
    "            return solution\n",
    "    return solution"
   ]
  },
  {
   "cell_type": "code",
   "execution_count": 3,
   "metadata": {},
   "outputs": [],
   "source": [
    "def solution_three(array):\n",
    "    i = 0\n",
    "    highest = 0 # remember the highest number\n",
    "    while i < len(array): # remove all negative numbers\n",
    "        if array[i] <= 0:\n",
    "            del array[i]\n",
    "        else:\n",
    "            if array[i] > highest:\n",
    "                highest = array[i]\n",
    "            i = i+1\n",
    "    positive = set(array)\n",
    "    for i in range(1, highest): # search all numbers from 1 to highest - 1\n",
    "        if i not in positive:\n",
    "            return i\n",
    "    return highest + 1 # nothing matched so the number must be higher that the highest"
   ]
  },
  {
   "cell_type": "markdown",
   "metadata": {},
   "source": [
    "## Testing"
   ]
  },
  {
   "cell_type": "markdown",
   "metadata": {},
   "source": [
    "### First set of data"
   ]
  },
  {
   "cell_type": "code",
   "execution_count": 4,
   "metadata": {},
   "outputs": [],
   "source": [
    "data = [3, 4, -1, 1]"
   ]
  },
  {
   "cell_type": "code",
   "execution_count": 5,
   "metadata": {},
   "outputs": [
    {
     "name": "stdout",
     "output_type": "stream",
     "text": [
      "CPU times: user 6 µs, sys: 0 ns, total: 6 µs\n",
      "Wall time: 9.06 µs\n"
     ]
    },
    {
     "data": {
      "text/plain": [
       "2"
      ]
     },
     "execution_count": 5,
     "metadata": {},
     "output_type": "execute_result"
    }
   ],
   "source": [
    "%%time\n",
    "solution_one(data)"
   ]
  },
  {
   "cell_type": "code",
   "execution_count": 6,
   "metadata": {},
   "outputs": [
    {
     "name": "stdout",
     "output_type": "stream",
     "text": [
      "CPU times: user 41 µs, sys: 9 µs, total: 50 µs\n",
      "Wall time: 70.1 µs\n"
     ]
    },
    {
     "data": {
      "text/plain": [
       "2"
      ]
     },
     "execution_count": 6,
     "metadata": {},
     "output_type": "execute_result"
    }
   ],
   "source": [
    "%%time\n",
    "solution_two(data)"
   ]
  },
  {
   "cell_type": "code",
   "execution_count": 7,
   "metadata": {},
   "outputs": [
    {
     "name": "stdout",
     "output_type": "stream",
     "text": [
      "CPU times: user 7 µs, sys: 1 µs, total: 8 µs\n",
      "Wall time: 10 µs\n"
     ]
    },
    {
     "data": {
      "text/plain": [
       "2"
      ]
     },
     "execution_count": 7,
     "metadata": {},
     "output_type": "execute_result"
    }
   ],
   "source": [
    "%%time\n",
    "solution_three(data)"
   ]
  },
  {
   "cell_type": "markdown",
   "metadata": {},
   "source": [
    "### Second set of data"
   ]
  },
  {
   "cell_type": "code",
   "execution_count": 8,
   "metadata": {},
   "outputs": [],
   "source": [
    "data = [1, 2, 0]"
   ]
  },
  {
   "cell_type": "code",
   "execution_count": 9,
   "metadata": {},
   "outputs": [
    {
     "name": "stdout",
     "output_type": "stream",
     "text": [
      "CPU times: user 14 µs, sys: 2 µs, total: 16 µs\n",
      "Wall time: 21.9 µs\n"
     ]
    },
    {
     "data": {
      "text/plain": [
       "3"
      ]
     },
     "execution_count": 9,
     "metadata": {},
     "output_type": "execute_result"
    }
   ],
   "source": [
    "%%time\n",
    "solution_one(data)"
   ]
  },
  {
   "cell_type": "code",
   "execution_count": 10,
   "metadata": {},
   "outputs": [
    {
     "name": "stdout",
     "output_type": "stream",
     "text": [
      "CPU times: user 9 µs, sys: 0 ns, total: 9 µs\n",
      "Wall time: 15.3 µs\n"
     ]
    },
    {
     "data": {
      "text/plain": [
       "3"
      ]
     },
     "execution_count": 10,
     "metadata": {},
     "output_type": "execute_result"
    }
   ],
   "source": [
    "%%time\n",
    "solution_two(data)"
   ]
  },
  {
   "cell_type": "code",
   "execution_count": 11,
   "metadata": {},
   "outputs": [
    {
     "name": "stdout",
     "output_type": "stream",
     "text": [
      "CPU times: user 7 µs, sys: 1 µs, total: 8 µs\n",
      "Wall time: 11 µs\n"
     ]
    },
    {
     "data": {
      "text/plain": [
       "3"
      ]
     },
     "execution_count": 11,
     "metadata": {},
     "output_type": "execute_result"
    }
   ],
   "source": [
    "%%time\n",
    "solution_three(data)"
   ]
  },
  {
   "cell_type": "markdown",
   "metadata": {},
   "source": [
    "### Randomly generated data"
   ]
  },
  {
   "cell_type": "code",
   "execution_count": 12,
   "metadata": {},
   "outputs": [],
   "source": [
    "from random import seed, randint\n",
    "seed(2019)"
   ]
  },
  {
   "cell_type": "code",
   "execution_count": 13,
   "metadata": {},
   "outputs": [
    {
     "name": "stdout",
     "output_type": "stream",
     "text": [
      "[9, 50, 15, 31, 10, 15, 41, 15, 41, 20, 48, 50, 40, 48, 38, 41, 18, 26, 39, 15, 47, 26, 29, 4, 42, 20, 41, 2, 23, 23, 21, 17, 13, 44, 30, 36, 6, 6, 35, 10, 18, 28, 26, 3, 11, 7, 2, 42, 3, 4, 25, 20, 41, 42, 29, 38, 27, 18, 39, 25, 11, 38, 18, 45, 48, 13, 47, 18, 49, 43, 6, 37, 19, 32, 12, 21, 1, 15, 18, 13, 47, 37, 21, 0, 10, 20, 4, 8, 43, 5, 44, 32, 27, 25, 48, 40, 11, 45, 44, 29, 23, 47, 11, 24, 32, 46, 15, 33, 43, 27, 20, 19, 29, 28, 16, 16, 31, 18, 18, 2, 26, 23, 22, 50, 14, 47, 11, 8, 27, 32, 23, 15, 18, 34, 32, 20, 47, 40, 18, 19, 2, 3, 27, 50, 45, 35, 41, 45, 4, 21, 33, 8, 13, 15, 33, 40, 22, 23, 14, 4, 9, 44, 7, 35, 25, 28, 11, 5, 43, 46, 50, 47, 16, 27, 28, 40, 2, 6, 16, 46, 39, 19, 29, 5, 17, 37, 30, 3, 22, 21, 14, 21, 43, 13, 12, 44, 12, 30, 5, 46, 27, 0, 11, 4, 7, 38, 21, 24, 16, 40, 5, 5, 34, 15, 49, 32, 19, 15, 35, 39, 23, 27, 14, 49, 0, 38, 16, 41, 41, 4, 14, 34, 38, 28, 40, 35, 15, 21, 16, 13, 0, 48, 36, 3, 40, 32, 40, 13, 28, 48, 6, 26, 46, 20, 26, 15, 38, 47, 18, 18, 28, 7, 23, 4, 1, 18, 6, 11, 4, 8, 38, 43, 48, 43, 46, 2, 27, 6, 42, 30, 31, 42, 26, 34, 37, 18, 34, 2, 39, 37, 21, 35, 49, 27, 37, 23, 19, 39, 6, 40, 18, 23, 49, 21, 46, 29, 13, 33, 29, 38, 42, 4, 3, 0, 11, 27, 33, 18, 22, 22, 7, 46, 46, 27, 9, 5, 38, 6, 23, 25, 0, 10, 33, 45, 0, 18, 49, 9, 18, 25, 24, 49, 22, 24, 19, 0, 4, 34, 1, 46, 15, 30, 30, 32, 14, 27, 20, 6, 41, 15, 31, 25, 49, 17, 17, 41, 18, 32, 42, 12, 37, 34, 19, 44, 20, 12, 24, 32, 5, 47, 2, 13, 47, 43, 44, 39, 16, 29, 28, 9, 37, 35, 38, 5, 36, 30, 29, 23, 42, 9, 5, 36, 26, 8, 31, 16, 21, 25, 41, 50, 0, 48, 8, 12, 14, 4, 29, 16, 39, 1, 1, 21, 8, 34, 33, 6, 9, 31, 21, 26, 43, 44, 25, 10, 19, 49, 39, 41, 14, 46, 42, 41, 1, 31, 12, 36, 38, 41, 9, 0, 36, 11, 20, 28, 48, 12, 41, 19, 37, 46, 28, 3, 49, 18, 46, 29, 4, 35, 37, 35, 8, 24, 2, 10, 49, 39, 32, 5, 12, 28, 24, 6, 3, 15, 8, 13, 34, 36, 43, 2, 27, 4, 21, 8, 27, 20, 46, 27, 43, 20, 3, 42, 14, 16, 3, 32, 10, 41, 19, 13, 26, 43, 12, 19, 29, 19, 16, 29, 41, 41, 47, 20, 31, 8, 40, 29, 13, 10, 20, 27, 3, 20, 0, 1, 6, 32, 33, 7, 7, 28, 2, 14, 50, 0, 11, 31, 50, 48, 28, 49, 50, 1, 10, 22, 3, 16, 25, 45, 9, 14, 48, 22, 12, 45, 24, 49, 14, 17, 43, 18, 38, 27, 2, 26, 27, 7, 50, 43, 6, 37, 3, 2, 8, 21, 22, 21, 37, 16, 15, 37, 38, 30, 1, 16, 33, 32, 4, 36, 27, 34, 30, 5, 35, 20, 45, 17, 50, 39, 9, 7, 35, 34, 38, 45, 23, 3, 11, 13, 20, 16, 19, 37, 38, 31, 36, 13, 37, 32, 49, 29, 4, 6, 24, 2, 50, 3, 1, 41, 8, 5, 4, 18, 37, 24, 1, 26, 50, 9, 1, 33, 46, 34, 26, 17, 1, 43, 21, 4, 1, 3, 31, 14, 43, 6, 12, 24, 26, 34, 7, 49, 50, 34, 20, 20, 27, 40, 12, 21, 38, 33, 40, 46, 25, 1, 36, 11, 29, 4, 10, 39, 42, 29, 8, 15, 8, 5, 19, 25, 6, 38, 24, 13, 9, 0, 7, 45, 8, 13, 15, 5, 0, 8, 27, 32, 16, 26, 25, 37, 38, 0, 37, 6, 19, 20, 49, 19, 13, 26, 26, 22, 7, 25, 28, 6, 42, 14, 48, 39, 44, 6, 34, 6, 40, 47, 36, 16, 48, 39, 41, 22, 40, 0, 50, 47, 4, 44, 25, 48, 29, 10, 9, 31, 50, 44, 10, 32, 40, 38, 50, 27, 46, 2, 39, 40, 27, 23, 9, 38, 29, 50, 47, 38, 20, 30, 30, 37, 8, 10, 39, 15, 23, 24, 33, 49, 24, 50, 37, 14, 0, 29, 33, 21, 7, 35, 1, 34, 27, 41, 29, 11, 10, 42, 0, 29, 2, 14, 1, 41, 46, 2, 6, 48, 31, 47, 26, 45, 31, 1, 28, 15, 11, 48, 34, 50, 27, 15, 33, 27, 3, 40, 18, 4, 25, 25, 28, 17, 15, 24, 46, 47, 50, 33, 17, 18, 13, 10, 50, 44, 33, 25, 44, 8, 20, 13, 9, 2, 49, 2, 38, 28, 28, 46, 42, 44, 17, 12, 24, 8, 21, 23, 12, 3, 42, 24, 5, 16, 23, 31, 5, 38, 35, 17, 46, 43, 15, 28, 50, 19, 37, 38, 23, 16, 28, 9, 37, 39, 0, 45, 32, 31, 46, 48, 18, 44, 13, 26, 40, 32, 41, 41, 28, 8, 28, 43, 17, 23, 8, 44, 23, 42, 48, 8, 10, 25, 20, 22, 3, 34, 30, 49, 4, 19, 41, 8, 24, 20, 41, 41, 0, 33, 8, 15, 2, 5, 6, 37, 30, 27, 18, 21, 47, 16, 14, 33, 30, 36, 4, 15, 48, 20, 13, 40, 37, 36, 7, 9, 26, 41, 23, 5, 20, 19, 36, 33, 48, 47, 17, 43, 37, 34, 11, 19, 39, 37, 18, 0, 9, 31, 43, 0]\n"
     ]
    }
   ],
   "source": [
    "data = [randint(0, 50) for _ in range(1000)]\n",
    "print(data)"
   ]
  },
  {
   "cell_type": "code",
   "execution_count": 14,
   "metadata": {},
   "outputs": [
    {
     "name": "stdout",
     "output_type": "stream",
     "text": [
      "CPU times: user 200 µs, sys: 1 µs, total: 201 µs\n",
      "Wall time: 218 µs\n"
     ]
    },
    {
     "data": {
      "text/plain": [
       "51"
      ]
     },
     "execution_count": 14,
     "metadata": {},
     "output_type": "execute_result"
    }
   ],
   "source": [
    "%%time\n",
    "solution_one(data)"
   ]
  },
  {
   "cell_type": "code",
   "execution_count": 15,
   "metadata": {},
   "outputs": [
    {
     "name": "stdout",
     "output_type": "stream",
     "text": [
      "CPU times: user 237 µs, sys: 0 ns, total: 237 µs\n",
      "Wall time: 242 µs\n"
     ]
    },
    {
     "data": {
      "text/plain": [
       "51"
      ]
     },
     "execution_count": 15,
     "metadata": {},
     "output_type": "execute_result"
    }
   ],
   "source": [
    "%%time\n",
    "solution_two(data)"
   ]
  },
  {
   "cell_type": "code",
   "execution_count": 16,
   "metadata": {},
   "outputs": [
    {
     "name": "stdout",
     "output_type": "stream",
     "text": [
      "CPU times: user 351 µs, sys: 16 µs, total: 367 µs\n",
      "Wall time: 450 µs\n"
     ]
    },
    {
     "data": {
      "text/plain": [
       "51"
      ]
     },
     "execution_count": 16,
     "metadata": {},
     "output_type": "execute_result"
    }
   ],
   "source": [
    "%%time\n",
    "solution_three(data)"
   ]
  }
 ],
 "metadata": {
  "kernelspec": {
   "display_name": "Python 3",
   "language": "python",
   "name": "python3"
  },
  "language_info": {
   "codemirror_mode": {
    "name": "ipython",
    "version": 3
   },
   "file_extension": ".py",
   "mimetype": "text/x-python",
   "name": "python",
   "nbconvert_exporter": "python",
   "pygments_lexer": "ipython3",
   "version": "3.7.2"
  }
 },
 "nbformat": 4,
 "nbformat_minor": 2
}
