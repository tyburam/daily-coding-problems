{
  "nbformat": 4,
  "nbformat_minor": 0,
  "metadata": {
    "kernelspec": {
      "display_name": "Python 3",
      "language": "python",
      "name": "python3"
    },
    "language_info": {
      "codemirror_mode": {
        "name": "ipython",
        "version": 3
      },
      "file_extension": ".py",
      "mimetype": "text/x-python",
      "name": "python",
      "nbconvert_exporter": "python",
      "pygments_lexer": "ipython3",
      "version": "3.7.2"
    },
    "colab": {
      "name": "Problem12-LevelHard.ipynb",
      "provenance": [],
      "collapsed_sections": []
    }
  },
  "cells": [
    {
      "cell_type": "markdown",
      "metadata": {
        "collapsed": true,
        "id": "Ueilyqz9VChj",
        "colab_type": "text"
      },
      "source": [
        "# Problem statement\n",
        "\n",
        "Good morning! Here's your coding interview problem for today.\n",
        "\n",
        "This problem was asked by Amazon.\n",
        "\n",
        "There exists a staircase with ```N``` steps, and you can climb up either ```1``` or ```2``` steps at a time. Given ```N```, write a function that returns the number of unique ways you can climb the staircase. The order of the steps matters.\n",
        "\n",
        "For example, if N is ```4```, then there are ```5``` unique ways:\n",
        "\n",
        "```\n",
        "1, 1, 1, 1  \n",
        "2, 1, 1  \n",
        "1, 2, 1  \n",
        "1, 1, 2  \n",
        "2, 2\n",
        "```\n",
        "What if, instead of being able to climb ```1``` or ```2``` steps at a time, you could climb any number from a set of positive integers ```X```? For example, if ```X = {1, 3, 5}```, you could climb ```1```, ```3```, or ```5``` steps at a time."
      ]
    },
    {
      "cell_type": "markdown",
      "metadata": {
        "id": "Z4RCguSuVChl",
        "colab_type": "text"
      },
      "source": [
        "# Solution for 1 or 2 steps"
      ]
    },
    {
      "cell_type": "code",
      "metadata": {
        "id": "2RYw-sRAVChp",
        "colab_type": "code",
        "colab": {}
      },
      "source": [
        "def climb12(n):\n",
        "  assert (n > 0), 'n must be greater than 0'\n",
        "  if n <= 2:\n",
        "    return n\n",
        "  unique_ways = 1 # always one with all 1's\n",
        "  twos = n // 2\n",
        "  for i in range(1, twos+1):\n",
        "    remaining = n - (i*2) # how many 1's left after putting i 2's\n",
        "    unique_ways += (remaining + 1)\n",
        "  return unique_ways"
      ],
      "execution_count": 0,
      "outputs": []
    },
    {
      "cell_type": "markdown",
      "metadata": {
        "id": "-QyTOCcwVCiD",
        "colab_type": "text"
      },
      "source": [
        "# Test"
      ]
    },
    {
      "cell_type": "code",
      "metadata": {
        "id": "_alrC9lQVCiE",
        "colab_type": "code",
        "colab": {}
      },
      "source": [
        "assert climb12(1) == 1"
      ],
      "execution_count": 0,
      "outputs": []
    },
    {
      "cell_type": "code",
      "metadata": {
        "id": "BjE9u3GQoJ7I",
        "colab_type": "code",
        "colab": {}
      },
      "source": [
        "assert climb12(2) == 2"
      ],
      "execution_count": 0,
      "outputs": []
    },
    {
      "cell_type": "code",
      "metadata": {
        "id": "QBuw-EHtr0PC",
        "colab_type": "code",
        "colab": {}
      },
      "source": [
        "assert climb12(3) == 3"
      ],
      "execution_count": 0,
      "outputs": []
    },
    {
      "cell_type": "code",
      "metadata": {
        "id": "CAyNg8wer6NN",
        "colab_type": "code",
        "colab": {}
      },
      "source": [
        "assert climb12(4) == 5"
      ],
      "execution_count": 0,
      "outputs": []
    }
  ]
}