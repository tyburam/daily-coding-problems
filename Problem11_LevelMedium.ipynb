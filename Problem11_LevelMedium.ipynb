{
  "nbformat": 4,
  "nbformat_minor": 0,
  "metadata": {
    "kernelspec": {
      "display_name": "Python 3",
      "language": "python",
      "name": "python3"
    },
    "language_info": {
      "codemirror_mode": {
        "name": "ipython",
        "version": 3
      },
      "file_extension": ".py",
      "mimetype": "text/x-python",
      "name": "python",
      "nbconvert_exporter": "python",
      "pygments_lexer": "ipython3",
      "version": "3.7.2"
    },
    "colab": {
      "name": "Problem11-LevelMedium.ipynb",
      "provenance": [],
      "collapsed_sections": []
    }
  },
  "cells": [
    {
      "cell_type": "markdown",
      "metadata": {
        "collapsed": true,
        "id": "Ueilyqz9VChj",
        "colab_type": "text"
      },
      "source": [
        "# Problem statement\n",
        "\n",
        "Good morning! Here's your coding interview problem for today.\n",
        "\n",
        "This problem was asked by Twitter.\n",
        "\n",
        "Implement an autocomplete system. That is, given a query string s and a set of all possible query strings, return all strings in the set that have s as a prefix.\n",
        "\n",
        "For example, given the query string ```de``` and the set of strings ```[dog, deer, deal]```, return ```[deer, deal]```.\n",
        "\n",
        "Hint: Try preprocessing the dictionary into a more efficient data structure to speed up queries."
      ]
    },
    {
      "cell_type": "markdown",
      "metadata": {
        "id": "Z4RCguSuVChl",
        "colab_type": "text"
      },
      "source": [
        "# Solution one"
      ]
    },
    {
      "cell_type": "code",
      "metadata": {
        "id": "2RYw-sRAVChp",
        "colab_type": "code",
        "colab": {}
      },
      "source": [
        "def autocomplete(query, words):\n",
        "  assert (len(query) > 0), 'please provide query'\n",
        "  assert (len(words) > 0), 'please provide words'\n",
        "  return [word for word in words if query in word]"
      ],
      "execution_count": 0,
      "outputs": []
    },
    {
      "cell_type": "markdown",
      "metadata": {
        "id": "-QyTOCcwVCiD",
        "colab_type": "text"
      },
      "source": [
        "# Test"
      ]
    },
    {
      "cell_type": "code",
      "metadata": {
        "id": "_alrC9lQVCiE",
        "colab_type": "code",
        "colab": {}
      },
      "source": [
        "assert autocomplete('de', ['dog', 'deer', 'deal']) == ['deer', 'deal']"
      ],
      "execution_count": 0,
      "outputs": []
    },
    {
      "cell_type": "code",
      "metadata": {
        "id": "BjE9u3GQoJ7I",
        "colab_type": "code",
        "colab": {}
      },
      "source": [
        ""
      ],
      "execution_count": 0,
      "outputs": []
    }
  ]
}