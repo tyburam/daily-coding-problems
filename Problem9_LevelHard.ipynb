{
  "nbformat": 4,
  "nbformat_minor": 0,
  "metadata": {
    "kernelspec": {
      "display_name": "Python 3",
      "language": "python",
      "name": "python3"
    },
    "language_info": {
      "codemirror_mode": {
        "name": "ipython",
        "version": 3
      },
      "file_extension": ".py",
      "mimetype": "text/x-python",
      "name": "python",
      "nbconvert_exporter": "python",
      "pygments_lexer": "ipython3",
      "version": "3.7.2"
    },
    "colab": {
      "name": "Problem9-LevelHard.ipynb",
      "provenance": [],
      "collapsed_sections": []
    }
  },
  "cells": [
    {
      "cell_type": "markdown",
      "metadata": {
        "collapsed": true,
        "id": "Ueilyqz9VChj",
        "colab_type": "text"
      },
      "source": [
        "# Problem statement\n",
        "\n",
        "Good morning! Here's your coding interview problem for today.\n",
        "\n",
        "This problem was asked by Airbnb.\n",
        "\n",
        "Given a list of integers, write a function that returns the largest sum of non-adjacent numbers. Numbers can be 0 or negative.\n",
        "\n",
        "For example, ```[2, 4, 6, 2, 5]``` should return ```13```, since we pick ```2, 6```, and ```5```. ```[5, 1, 1, 5]``` should return ```10```, since we pick ```5``` and ```5```.\n",
        "\n",
        "Follow-up: Can you do this in O(N) time and constant space?"
      ]
    },
    {
      "cell_type": "markdown",
      "metadata": {
        "id": "Z4RCguSuVChl",
        "colab_type": "text"
      },
      "source": [
        "# Solution\n",
        "\n",
        "1. First check if there are actually numbers\n",
        "2. If just one element, return it\n",
        "3. If just 2 elements, return max of them\n",
        "4. Store sum of all non adjecent elements excluding most recent(excluding), including most recent (including) and sum up to previous element\n",
        "5. Iterate just once from index 2 till the end of array:\n",
        "  * max_cur is max of excluding and including plus current number\n",
        "  * excluding is maximum of current excluding and including \n",
        "  * including is now up_to_previous\n",
        "  * up_to_previous is max_cur"
      ]
    },
    {
      "cell_type": "code",
      "metadata": {
        "id": "2RYw-sRAVChp",
        "colab_type": "code",
        "colab": {}
      },
      "source": [
        "def largest_non_adjacent_sum(numbers, verbose=False):\n",
        "  assert (len(numbers) > 0), 'please provide at least one number'\n",
        "  if len(numbers) == 1:\n",
        "    return numbers[0]\n",
        "  if len(numbers) == 2:\n",
        "    return max(numbers)\n",
        "\n",
        "  excluding, including, up_to_previous = 0, numbers[0], numbers[1]\n",
        "  if verbose:\n",
        "    print('excluding = {}, including = {}, up_to_previous = {}'.format(excluding, including, up_to_previous))\n",
        "  for i in range(2, len(numbers)):\n",
        "    if verbose:\n",
        "      print('Loop index = {}. Current number = {}'.format(i, numbers[i]))\n",
        "      print('Start of loop values: excluding = {}, including = {}, up_to_previous = {}'.format(excluding, including, up_to_previous))\n",
        "    max_cur = max(excluding, including) + numbers[i]\n",
        "    excluding = max(excluding, including)\n",
        "    including = up_to_previous\n",
        "    up_to_previous = max_cur\n",
        "    if verbose:\n",
        "      print('End of loop values: excluding = {}, including = {}, up_to_previous = {}'.format(excluding, including, up_to_previous))\n",
        "\n",
        "  return max(up_to_previous, including)"
      ],
      "execution_count": 0,
      "outputs": []
    },
    {
      "cell_type": "markdown",
      "metadata": {
        "id": "CG6aVYdkdG77",
        "colab_type": "text"
      },
      "source": [
        "# Verbose demo"
      ]
    },
    {
      "cell_type": "code",
      "metadata": {
        "id": "SbPg7kNSdGri",
        "colab_type": "code",
        "colab": {
          "base_uri": "https://localhost:8080/",
          "height": 208
        },
        "outputId": "515bf21e-b5c2-40f9-85f5-cd31c1fe5fae"
      },
      "source": [
        "largest_non_adjacent_sum([2, 4, 6, 2, 5], True)"
      ],
      "execution_count": 14,
      "outputs": [
        {
          "output_type": "stream",
          "text": [
            "excluding = 0, including = 2, up_to_previous = 4\n",
            "Loop index = 2. Current number = 6\n",
            "Start of loop values: excluding = 0, including = 2, up_to_previous = 4\n",
            "End of loop values: excluding = 2, including = 4, up_to_previous = 8\n",
            "Loop index = 3. Current number = 2\n",
            "Start of loop values: excluding = 2, including = 4, up_to_previous = 8\n",
            "End of loop values: excluding = 4, including = 8, up_to_previous = 6\n",
            "Loop index = 4. Current number = 5\n",
            "Start of loop values: excluding = 4, including = 8, up_to_previous = 6\n",
            "End of loop values: excluding = 8, including = 6, up_to_previous = 13\n"
          ],
          "name": "stdout"
        },
        {
          "output_type": "execute_result",
          "data": {
            "text/plain": [
              "13"
            ]
          },
          "metadata": {
            "tags": []
          },
          "execution_count": 14
        }
      ]
    },
    {
      "cell_type": "markdown",
      "metadata": {
        "id": "-QyTOCcwVCiD",
        "colab_type": "text"
      },
      "source": [
        "# Test"
      ]
    },
    {
      "cell_type": "code",
      "metadata": {
        "id": "_alrC9lQVCiE",
        "colab_type": "code",
        "colab": {}
      },
      "source": [
        "assert largest_non_adjacent_sum([2, 4, 6, 2, 5]) == 13"
      ],
      "execution_count": 0,
      "outputs": []
    },
    {
      "cell_type": "code",
      "metadata": {
        "id": "jkyv0txWVCiL",
        "colab_type": "code",
        "colab": {}
      },
      "source": [
        "assert largest_non_adjacent_sum([5, 1, 1, 5]) == 10"
      ],
      "execution_count": 0,
      "outputs": []
    },
    {
      "cell_type": "code",
      "metadata": {
        "id": "nfCvS0rYZgwz",
        "colab_type": "code",
        "colab": {}
      },
      "source": [
        ""
      ],
      "execution_count": 0,
      "outputs": []
    }
  ]
}