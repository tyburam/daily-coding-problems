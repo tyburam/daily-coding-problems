{
 "cells": [
  {
   "cell_type": "markdown",
   "metadata": {},
   "source": [
    "# Problem statement\n",
    "\n",
    "Good morning! Here's your coding interview problem for today.\n",
    "\n",
    "This problem was asked by Google.\n",
    "\n",
    "Given the root to a binary tree, implement serialize(root), which serializes the tree into a string, and deserialize(s), which deserializes the string back into the tree.\n",
    "\n",
    "For example, given the following Node class\n",
    "\n",
    "```\n",
    "class Node:\n",
    "    def __init__(self, val, left=None, right=None):\n",
    "        self.val = val\n",
    "        self.left = left\n",
    "        self.right = right\n",
    "```\n",
    "The following test should pass:\n",
    "\n",
    "```\n",
    "node = Node('root', Node('left', Node('left.left')), Node('right'))\n",
    "assert deserialize(serialize(node)).left.left.val == 'left.left'\n",
    "```"
   ]
  },
  {
   "cell_type": "markdown",
   "metadata": {},
   "source": [
    "## Class"
   ]
  },
  {
   "cell_type": "code",
   "execution_count": 51,
   "metadata": {},
   "outputs": [],
   "source": [
    "class Node:\n",
    "    def __init__(self, val, left=None, right=None):\n",
    "        self.val = val\n",
    "        self.left = left\n",
    "        self.right = right\n",
    "        \n",
    "    def __str__(self):\n",
    "        lval = \"None\" if self.left is None else str(self.left)\n",
    "        rval = \"None\" if self.right is None else str(self.right)\n",
    "        return \"(value={}, left={}, right={})\".format(self.val, lval, rval)"
   ]
  },
  {
   "cell_type": "markdown",
   "metadata": {},
   "source": [
    "## Methods"
   ]
  },
  {
   "cell_type": "code",
   "execution_count": 60,
   "metadata": {},
   "outputs": [],
   "source": [
    "def serialize(node):\n",
    "    if node is None:\n",
    "        return \"None\"\n",
    "    return \"{},{},{}\".format(node.val, serialize(node.left), serialize(node.right))"
   ]
  },
  {
   "cell_type": "code",
   "execution_count": 61,
   "metadata": {},
   "outputs": [],
   "source": [
    "def deserialize(serial):\n",
    "    def _deserialize(serial):\n",
    "        if serial is None or len(serial) == 0: # nothing means an empty node\n",
    "            return None\n",
    "        node = None\n",
    "        value = serial.pop(0) # getting the first value of list\n",
    "        if value == 'None': # if it's special value it means empty node\n",
    "            return node\n",
    "        node = Node(value) # otherwise create a new node\n",
    "        node.left = _deserialize(serial) # left children is right after the node value so we start by deserializing left\n",
    "        node.right = _deserialize(serial) # right is last\n",
    "        return node # return whole tree\n",
    "\n",
    "    if serial is None or serial == \"\": # nothing in the input\n",
    "        return None\n",
    "    separated = serial.split(',')\n",
    "    if separated is None or len(separated) == 0: # something is bad about this string\n",
    "        return None\n",
    "    return _deserialize(separated)"
   ]
  },
  {
   "cell_type": "markdown",
   "metadata": {},
   "source": [
    "## Testing it out"
   ]
  },
  {
   "cell_type": "code",
   "execution_count": 62,
   "metadata": {},
   "outputs": [],
   "source": [
    "node = Node('root', Node('left', Node('left.left')), Node('right'))"
   ]
  },
  {
   "cell_type": "code",
   "execution_count": 63,
   "metadata": {},
   "outputs": [
    {
     "name": "stdout",
     "output_type": "stream",
     "text": [
      "(value=root, left=(value=left, left=(value=left.left, left=None, right=None), right=None), right=(value=right, left=None, right=None))\n"
     ]
    }
   ],
   "source": [
    "print(node)"
   ]
  },
  {
   "cell_type": "code",
   "execution_count": 64,
   "metadata": {},
   "outputs": [
    {
     "data": {
      "text/plain": [
       "'root,left,left.left,None,None,None,right,None,None'"
      ]
     },
     "execution_count": 64,
     "metadata": {},
     "output_type": "execute_result"
    }
   ],
   "source": [
    "result = serialize(node)\n",
    "result"
   ]
  },
  {
   "cell_type": "code",
   "execution_count": 66,
   "metadata": {},
   "outputs": [
    {
     "name": "stdout",
     "output_type": "stream",
     "text": [
      "(value=root, left=(value=left, left=(value=left.left, left=None, right=None), right=None), right=(value=right, left=None, right=None))\n"
     ]
    }
   ],
   "source": [
    "print(deserialize(result))"
   ]
  },
  {
   "cell_type": "code",
   "execution_count": 67,
   "metadata": {},
   "outputs": [],
   "source": [
    "assert deserialize(serialize(node)).left.left.val == 'left.left'"
   ]
  },
  {
   "cell_type": "code",
   "execution_count": null,
   "metadata": {},
   "outputs": [],
   "source": []
  }
 ],
 "metadata": {
  "kernelspec": {
   "display_name": "Python 3",
   "language": "python",
   "name": "python3"
  },
  "language_info": {
   "codemirror_mode": {
    "name": "ipython",
    "version": 3
   },
   "file_extension": ".py",
   "mimetype": "text/x-python",
   "name": "python",
   "nbconvert_exporter": "python",
   "pygments_lexer": "ipython3",
   "version": "3.7.2"
  }
 },
 "nbformat": 4,
 "nbformat_minor": 2
}
