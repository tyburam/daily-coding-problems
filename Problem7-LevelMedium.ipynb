{
 "cells": [
  {
   "cell_type": "markdown",
   "metadata": {
    "collapsed": true
   },
   "source": [
    "## Problem statement\n",
    "\n",
    "Good morning! Here's your coding interview problem for today.\n",
    "\n",
    "This problem was asked by Facebook.\n",
    "\n",
    "Given the mapping a = 1, b = 2, ... z = 26, and an encoded message, count the number of ways it can be decoded.\n",
    "\n",
    "For example, the message '111' would give 3, since it could be decoded as 'aaa', 'ka', and 'ak'.\n",
    "\n",
    "You can assume that the messages are decodable. For example, '001' is not allowed."
   ]
  },
  {
   "cell_type": "markdown",
   "metadata": {},
   "source": [
    "## Implementations"
   ]
  },
  {
   "cell_type": "code",
   "execution_count": 60,
   "metadata": {},
   "outputs": [],
   "source": [
    "def count_decoding_ways(msg):\n",
    "    if len(msg) == 1:\n",
    "        return 1\n",
    "    \n",
    "    ways = [1, 0] \n",
    "    for i in range(len(msg)):\n",
    "        w = 0\n",
    "        \n",
    "        if i > 0 and (msg[i-1] == '1' or (msg[i-1] == '2' and msg[i] < '7')): # valid pair\n",
    "            w += ways[1]\n",
    "        \n",
    "        w += ways[0]\n",
    "        \n",
    "        ways[1] = ways[0]\n",
    "        ways[0] = w\n",
    "    return ways[0]\n",
    "        \n",
    "        \n",
    "#                 if((i > 0) && ((message[i - 1] == '1') || (message[i - 1] == '2' && message[i] < '7'))) {\n",
    "#             w += ways[1];\n",
    "#         }\n",
    "#     # not checking for empty or not allowed because of problem statement\n",
    "#     result = 1 # at least one way because we could treat every single digit separately\n",
    "    \n",
    "#     # check all pairs\n",
    "#     odd_pairs_count = 0\n",
    "#     even_pairs_count = 0\n",
    "#     for i in range(len(msg)-1):\n",
    "#         pair = int(msg[i:(i+2)])\n",
    "#         if pair >= 11 and pair <= 26:\n",
    "#             result += 1 # combination of one pair of numbers and rest treated as single digits\n",
    "#             if i % 2 == 0:\n",
    "#                 even_pairs_count += 1\n",
    "#                 # print('Even pair. Result = {}. Pairs count = {}'.format(result, even_pairs_count))\n",
    "#             else:\n",
    "#                 odd_pairs_count += 1\n",
    "#                 # print('Odd pair. Result = {}. Pairs count = {}'.format(result, odd_pairs_count))\n",
    "    \n",
    "#     print('Result = {}. Even count = {}. Odd count = {}'.format(result, even_pairs_count, odd_pairs_count))\n",
    "#     if len(msg) > 3:\n",
    "#         if even_pairs_count > 1:\n",
    "#             result += (even_pairs_count - 1) # just even pairs combinations\n",
    "#         if odd_pairs_count > 1:\n",
    "#             result += (odd_pairs_count - 1) # just odd pairs combinations\n",
    "    \n",
    "#     return result"
   ]
  },
  {
   "cell_type": "markdown",
   "metadata": {},
   "source": [
    "## Tests"
   ]
  },
  {
   "cell_type": "code",
   "execution_count": 61,
   "metadata": {},
   "outputs": [],
   "source": [
    "for i in range(1, 10):\n",
    "    assert count_decoding_ways(str(i)) == 1"
   ]
  },
  {
   "cell_type": "code",
   "execution_count": 62,
   "metadata": {},
   "outputs": [],
   "source": [
    "assert count_decoding_ways('11') == 2"
   ]
  },
  {
   "cell_type": "markdown",
   "metadata": {},
   "source": [
    "#### 111\n",
    "* 1, 1, 1 -> 1\n",
    "* 11, 1 -> 2\n",
    "* 1, 11 -> 3"
   ]
  },
  {
   "cell_type": "code",
   "execution_count": 63,
   "metadata": {},
   "outputs": [],
   "source": [
    "assert count_decoding_ways('111') == 3"
   ]
  },
  {
   "cell_type": "markdown",
   "metadata": {},
   "source": [
    "#### 1111\n",
    "* 1, 1, 1, 1 -> 1\n",
    "* 11, 1, 1 -> 2\n",
    "* 11, 11 -> 3\n",
    "* 1, 11, 1 -> 4\n",
    "* 1, 1, 11 -> 5"
   ]
  },
  {
   "cell_type": "code",
   "execution_count": 64,
   "metadata": {},
   "outputs": [],
   "source": [
    "assert count_decoding_ways('1111') == 5"
   ]
  },
  {
   "cell_type": "markdown",
   "metadata": {},
   "source": [
    "#### 11111\n",
    "* 1, 1, 1, 1, 1 -> 1\n",
    "* 11, 1, 1, 1 -> 2\n",
    "* 11, 11, 1 -> 3\n",
    "* 11, 1, 11 -> 4\n",
    "* 1, 11, 1, 1 -> 5\n",
    "* 1, 11, 11 -> 6\n",
    "* 1, 1, 11, 1 -> 7\n",
    "* 1, 1, 1, 11 -> 8"
   ]
  },
  {
   "cell_type": "code",
   "execution_count": 65,
   "metadata": {
    "scrolled": true
   },
   "outputs": [],
   "source": [
    "assert count_decoding_ways('11111') == 8"
   ]
  },
  {
   "cell_type": "code",
   "execution_count": 66,
   "metadata": {},
   "outputs": [
    {
     "data": {
      "text/plain": [
       "8"
      ]
     },
     "execution_count": 66,
     "metadata": {},
     "output_type": "execute_result"
    }
   ],
   "source": [
    "count_decoding_ways('11111')"
   ]
  },
  {
   "cell_type": "markdown",
   "metadata": {},
   "source": [
    "#### 111111\n",
    "* 1, 1, 1, 1, 1, 1 -> 1\n",
    "* 11, 1, 1, 1, 1 -> 2\n",
    "* 11, 11, 1, 1 -> 3\n",
    "* 11, 1, 11, 1 -> 4\n",
    "* 11, 1, 1, 11 -> 5\n",
    "* 11, 11, 11 -> 6\n",
    "* 1, 11, 1, 1, 1 -> 7\n",
    "* 1, 11, 11, 1 -> 8\n",
    "* 1, 11, 1, 11 -> 9\n",
    "* 1, 1, 11, 1, 1 -> 10\n",
    "* 1, 1, 11, 11 -> 11\n",
    "* 1, 1, 1, 11, 1 -> 12\n",
    "* 1, 1, 1, 1, 11 -> 13"
   ]
  },
  {
   "cell_type": "code",
   "execution_count": 67,
   "metadata": {},
   "outputs": [
    {
     "data": {
      "text/plain": [
       "13"
      ]
     },
     "execution_count": 67,
     "metadata": {},
     "output_type": "execute_result"
    }
   ],
   "source": [
    "count_decoding_ways('111111')"
   ]
  },
  {
   "cell_type": "markdown",
   "metadata": {},
   "source": [
    "#### 1111111\n",
    "* 1, 1, 1, 1, 1, 1, 1 -> 1\n",
    "* 11, 1, 1, 1, 1, 1 -> 2\n",
    "* 11, 11, 1, 1, 1 -> 3\n",
    "* 11, 1, 11, 1, 1 -> 4\n",
    "* 11, 1, 1, 11, 1 -> 5\n",
    "* 11, 1, 1, 1, 11 -> 6\n",
    "* 11, 11, 11, 1 -> 7\n",
    "* 11, 11, 1, 11 -> 8\n",
    "* 1, 11, 1, 1, 1, 1 -> 9\n",
    "* 1, 11, 11, 1, 1 -> 10\n",
    "* 1, 11, 1, 11, 1 -> 11\n",
    "* 1, 11, 1, 1, 11 -> 12\n",
    "* 1, 11, 11, 11 -> 13\n",
    "* 1, 1, 11, 1, 1, 1 -> 14\n",
    "* 1, 1, 11, 11, 1 -> 15\n",
    "* 1, 1, 11, 1, 11 -> 16\n",
    "* 1, 1, 1, 11, 1, 1 -> 17\n",
    "* 1, 1, 1, 11, 11 -> 18\n",
    "* 1, 1, 1, 1, 11, 1 -> 19\n",
    "* 1, 1, 1, 1, 1, 11 -> 20"
   ]
  },
  {
   "cell_type": "code",
   "execution_count": 68,
   "metadata": {},
   "outputs": [
    {
     "data": {
      "text/plain": [
       "21"
      ]
     },
     "execution_count": 68,
     "metadata": {},
     "output_type": "execute_result"
    }
   ],
   "source": [
    "count_decoding_ways('1111111')"
   ]
  },
  {
   "cell_type": "code",
   "execution_count": null,
   "metadata": {},
   "outputs": [],
   "source": []
  },
  {
   "cell_type": "code",
   "execution_count": null,
   "metadata": {},
   "outputs": [],
   "source": []
  }
 ],
 "metadata": {
  "kernelspec": {
   "display_name": "Python 3",
   "language": "python",
   "name": "python3"
  },
  "language_info": {
   "codemirror_mode": {
    "name": "ipython",
    "version": 3
   },
   "file_extension": ".py",
   "mimetype": "text/x-python",
   "name": "python",
   "nbconvert_exporter": "python",
   "pygments_lexer": "ipython3",
   "version": "3.7.2"
  }
 },
 "nbformat": 4,
 "nbformat_minor": 1
}
